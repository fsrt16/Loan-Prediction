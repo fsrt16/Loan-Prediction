{
  "nbformat": 4,
  "nbformat_minor": 0,
  "metadata": {
    "colab": {
      "name": "Loan_Prediction.ipynb",
      "version": "0.3.2",
      "provenance": [],
      "collapsed_sections": [],
      "include_colab_link": true
    },
    "kernelspec": {
      "name": "python3",
      "display_name": "Python 3"
    }
  },
  "cells": [
    {
      "cell_type": "markdown",
      "metadata": {
        "id": "view-in-github",
        "colab_type": "text"
      },
      "source": [
        "<a href=\"https://colab.research.google.com/github/fsrt16/Loan-Prediction/blob/master/Loan_Prediction.ipynb\" target=\"_parent\"><img src=\"https://colab.research.google.com/assets/colab-badge.svg\" alt=\"Open In Colab\"/></a>"
      ]
    },
    {
      "cell_type": "code",
      "metadata": {
        "id": "3oE2NwpHerUr",
        "colab_type": "code",
        "colab": {}
      },
      "source": [
        "import numpy as np\n",
        "import pandas as pd\n",
        "import matplotlib.pyplot as plt\n"
      ],
      "execution_count": 0,
      "outputs": []
    },
    {
      "cell_type": "code",
      "metadata": {
        "id": "JnENBiuigEA1",
        "colab_type": "code",
        "colab": {
          "base_uri": "https://localhost:8080/",
          "height": 232
        },
        "outputId": "589fe4d4-d256-42fa-fee3-475eaef1cf9c"
      },
      "source": [
        "df_t = pd.read_csv('train.csv')\n",
        "df_t.head()"
      ],
      "execution_count": 4,
      "outputs": [
        {
          "output_type": "execute_result",
          "data": {
            "text/html": [
              "<div>\n",
              "<style scoped>\n",
              "    .dataframe tbody tr th:only-of-type {\n",
              "        vertical-align: middle;\n",
              "    }\n",
              "\n",
              "    .dataframe tbody tr th {\n",
              "        vertical-align: top;\n",
              "    }\n",
              "\n",
              "    .dataframe thead th {\n",
              "        text-align: right;\n",
              "    }\n",
              "</style>\n",
              "<table border=\"1\" class=\"dataframe\">\n",
              "  <thead>\n",
              "    <tr style=\"text-align: right;\">\n",
              "      <th></th>\n",
              "      <th>Loan_ID</th>\n",
              "      <th>Gender</th>\n",
              "      <th>Married</th>\n",
              "      <th>Dependents</th>\n",
              "      <th>Education</th>\n",
              "      <th>Self_Employed</th>\n",
              "      <th>ApplicantIncome</th>\n",
              "      <th>CoapplicantIncome</th>\n",
              "      <th>LoanAmount</th>\n",
              "      <th>Loan_Amount_Term</th>\n",
              "      <th>Credit_History</th>\n",
              "      <th>Property_Area</th>\n",
              "      <th>Loan_Status</th>\n",
              "    </tr>\n",
              "  </thead>\n",
              "  <tbody>\n",
              "    <tr>\n",
              "      <th>0</th>\n",
              "      <td>LP001002</td>\n",
              "      <td>Male</td>\n",
              "      <td>No</td>\n",
              "      <td>0</td>\n",
              "      <td>Graduate</td>\n",
              "      <td>No</td>\n",
              "      <td>5849</td>\n",
              "      <td>0.0</td>\n",
              "      <td>NaN</td>\n",
              "      <td>360.0</td>\n",
              "      <td>1.0</td>\n",
              "      <td>Urban</td>\n",
              "      <td>Y</td>\n",
              "    </tr>\n",
              "    <tr>\n",
              "      <th>1</th>\n",
              "      <td>LP001003</td>\n",
              "      <td>Male</td>\n",
              "      <td>Yes</td>\n",
              "      <td>1</td>\n",
              "      <td>Graduate</td>\n",
              "      <td>No</td>\n",
              "      <td>4583</td>\n",
              "      <td>1508.0</td>\n",
              "      <td>128.0</td>\n",
              "      <td>360.0</td>\n",
              "      <td>1.0</td>\n",
              "      <td>Rural</td>\n",
              "      <td>N</td>\n",
              "    </tr>\n",
              "    <tr>\n",
              "      <th>2</th>\n",
              "      <td>LP001005</td>\n",
              "      <td>Male</td>\n",
              "      <td>Yes</td>\n",
              "      <td>0</td>\n",
              "      <td>Graduate</td>\n",
              "      <td>Yes</td>\n",
              "      <td>3000</td>\n",
              "      <td>0.0</td>\n",
              "      <td>66.0</td>\n",
              "      <td>360.0</td>\n",
              "      <td>1.0</td>\n",
              "      <td>Urban</td>\n",
              "      <td>Y</td>\n",
              "    </tr>\n",
              "    <tr>\n",
              "      <th>3</th>\n",
              "      <td>LP001006</td>\n",
              "      <td>Male</td>\n",
              "      <td>Yes</td>\n",
              "      <td>0</td>\n",
              "      <td>Not Graduate</td>\n",
              "      <td>No</td>\n",
              "      <td>2583</td>\n",
              "      <td>2358.0</td>\n",
              "      <td>120.0</td>\n",
              "      <td>360.0</td>\n",
              "      <td>1.0</td>\n",
              "      <td>Urban</td>\n",
              "      <td>Y</td>\n",
              "    </tr>\n",
              "    <tr>\n",
              "      <th>4</th>\n",
              "      <td>LP001008</td>\n",
              "      <td>Male</td>\n",
              "      <td>No</td>\n",
              "      <td>0</td>\n",
              "      <td>Graduate</td>\n",
              "      <td>No</td>\n",
              "      <td>6000</td>\n",
              "      <td>0.0</td>\n",
              "      <td>141.0</td>\n",
              "      <td>360.0</td>\n",
              "      <td>1.0</td>\n",
              "      <td>Urban</td>\n",
              "      <td>Y</td>\n",
              "    </tr>\n",
              "  </tbody>\n",
              "</table>\n",
              "</div>"
            ],
            "text/plain": [
              "    Loan_ID Gender Married Dependents     Education Self_Employed  \\\n",
              "0  LP001002   Male      No          0      Graduate            No   \n",
              "1  LP001003   Male     Yes          1      Graduate            No   \n",
              "2  LP001005   Male     Yes          0      Graduate           Yes   \n",
              "3  LP001006   Male     Yes          0  Not Graduate            No   \n",
              "4  LP001008   Male      No          0      Graduate            No   \n",
              "\n",
              "   ApplicantIncome  CoapplicantIncome  LoanAmount  Loan_Amount_Term  \\\n",
              "0             5849                0.0         NaN             360.0   \n",
              "1             4583             1508.0       128.0             360.0   \n",
              "2             3000                0.0        66.0             360.0   \n",
              "3             2583             2358.0       120.0             360.0   \n",
              "4             6000                0.0       141.0             360.0   \n",
              "\n",
              "   Credit_History Property_Area Loan_Status  \n",
              "0             1.0         Urban           Y  \n",
              "1             1.0         Rural           N  \n",
              "2             1.0         Urban           Y  \n",
              "3             1.0         Urban           Y  \n",
              "4             1.0         Urban           Y  "
            ]
          },
          "metadata": {
            "tags": []
          },
          "execution_count": 4
        }
      ]
    },
    {
      "cell_type": "code",
      "metadata": {
        "id": "VQG0SgQQgPfV",
        "colab_type": "code",
        "colab": {}
      },
      "source": [
        ""
      ],
      "execution_count": 0,
      "outputs": []
    },
    {
      "cell_type": "markdown",
      "metadata": {
        "id": "3VlyHg6HgZWU",
        "colab_type": "text"
      },
      "source": [
        "# **Statistical Hypothesis **"
      ]
    },
    {
      "cell_type": "markdown",
      "metadata": {
        "id": "0b60fC9UvMKP",
        "colab_type": "text"
      },
      "source": [
        "## BIVARIATE ANALYSIS    *---> w.r.t Target *"
      ]
    },
    {
      "cell_type": "code",
      "metadata": {
        "id": "OP-WaqlUih7Y",
        "colab_type": "code",
        "colab": {
          "base_uri": "https://localhost:8080/",
          "height": 284
        },
        "outputId": "021f7efb-fc3c-4486-9275-92f13b569201"
      },
      "source": [
        "df_t.describe()"
      ],
      "execution_count": 5,
      "outputs": [
        {
          "output_type": "execute_result",
          "data": {
            "text/html": [
              "<div>\n",
              "<style scoped>\n",
              "    .dataframe tbody tr th:only-of-type {\n",
              "        vertical-align: middle;\n",
              "    }\n",
              "\n",
              "    .dataframe tbody tr th {\n",
              "        vertical-align: top;\n",
              "    }\n",
              "\n",
              "    .dataframe thead th {\n",
              "        text-align: right;\n",
              "    }\n",
              "</style>\n",
              "<table border=\"1\" class=\"dataframe\">\n",
              "  <thead>\n",
              "    <tr style=\"text-align: right;\">\n",
              "      <th></th>\n",
              "      <th>ApplicantIncome</th>\n",
              "      <th>CoapplicantIncome</th>\n",
              "      <th>LoanAmount</th>\n",
              "      <th>Loan_Amount_Term</th>\n",
              "      <th>Credit_History</th>\n",
              "    </tr>\n",
              "  </thead>\n",
              "  <tbody>\n",
              "    <tr>\n",
              "      <th>count</th>\n",
              "      <td>614.000000</td>\n",
              "      <td>614.000000</td>\n",
              "      <td>592.000000</td>\n",
              "      <td>600.00000</td>\n",
              "      <td>564.000000</td>\n",
              "    </tr>\n",
              "    <tr>\n",
              "      <th>mean</th>\n",
              "      <td>5403.459283</td>\n",
              "      <td>1621.245798</td>\n",
              "      <td>146.412162</td>\n",
              "      <td>342.00000</td>\n",
              "      <td>0.842199</td>\n",
              "    </tr>\n",
              "    <tr>\n",
              "      <th>std</th>\n",
              "      <td>6109.041673</td>\n",
              "      <td>2926.248369</td>\n",
              "      <td>85.587325</td>\n",
              "      <td>65.12041</td>\n",
              "      <td>0.364878</td>\n",
              "    </tr>\n",
              "    <tr>\n",
              "      <th>min</th>\n",
              "      <td>150.000000</td>\n",
              "      <td>0.000000</td>\n",
              "      <td>9.000000</td>\n",
              "      <td>12.00000</td>\n",
              "      <td>0.000000</td>\n",
              "    </tr>\n",
              "    <tr>\n",
              "      <th>25%</th>\n",
              "      <td>2877.500000</td>\n",
              "      <td>0.000000</td>\n",
              "      <td>100.000000</td>\n",
              "      <td>360.00000</td>\n",
              "      <td>1.000000</td>\n",
              "    </tr>\n",
              "    <tr>\n",
              "      <th>50%</th>\n",
              "      <td>3812.500000</td>\n",
              "      <td>1188.500000</td>\n",
              "      <td>128.000000</td>\n",
              "      <td>360.00000</td>\n",
              "      <td>1.000000</td>\n",
              "    </tr>\n",
              "    <tr>\n",
              "      <th>75%</th>\n",
              "      <td>5795.000000</td>\n",
              "      <td>2297.250000</td>\n",
              "      <td>168.000000</td>\n",
              "      <td>360.00000</td>\n",
              "      <td>1.000000</td>\n",
              "    </tr>\n",
              "    <tr>\n",
              "      <th>max</th>\n",
              "      <td>81000.000000</td>\n",
              "      <td>41667.000000</td>\n",
              "      <td>700.000000</td>\n",
              "      <td>480.00000</td>\n",
              "      <td>1.000000</td>\n",
              "    </tr>\n",
              "  </tbody>\n",
              "</table>\n",
              "</div>"
            ],
            "text/plain": [
              "       ApplicantIncome  CoapplicantIncome  LoanAmount  Loan_Amount_Term  \\\n",
              "count       614.000000         614.000000  592.000000         600.00000   \n",
              "mean       5403.459283        1621.245798  146.412162         342.00000   \n",
              "std        6109.041673        2926.248369   85.587325          65.12041   \n",
              "min         150.000000           0.000000    9.000000          12.00000   \n",
              "25%        2877.500000           0.000000  100.000000         360.00000   \n",
              "50%        3812.500000        1188.500000  128.000000         360.00000   \n",
              "75%        5795.000000        2297.250000  168.000000         360.00000   \n",
              "max       81000.000000       41667.000000  700.000000         480.00000   \n",
              "\n",
              "       Credit_History  \n",
              "count      564.000000  \n",
              "mean         0.842199  \n",
              "std          0.364878  \n",
              "min          0.000000  \n",
              "25%          1.000000  \n",
              "50%          1.000000  \n",
              "75%          1.000000  \n",
              "max          1.000000  "
            ]
          },
          "metadata": {
            "tags": []
          },
          "execution_count": 5
        }
      ]
    },
    {
      "cell_type": "code",
      "metadata": {
        "id": "yt8V8qymi6l9",
        "colab_type": "code",
        "colab": {
          "base_uri": "https://localhost:8080/",
          "height": 151
        },
        "outputId": "80fffcba-2fb8-4801-c4d0-786f092aabcb"
      },
      "source": [
        "print(df_t['Gender'].unique())\n",
        "print(df_t['Married'].unique())\n",
        "print(df_t['Dependents'].unique())\n",
        "print(df_t['Education'].unique())\n",
        "print(df_t['Self_Employed'].unique())\n",
        "print(df_t['Credit_History'].unique())\n",
        "print(df_t['Property_Area'].unique())\n",
        "print(df_t['Loan_Status'].unique())"
      ],
      "execution_count": 11,
      "outputs": [
        {
          "output_type": "stream",
          "text": [
            "['Male' 'Female' nan]\n",
            "['No' 'Yes' nan]\n",
            "['0' '1' '2' '3+' nan]\n",
            "['Graduate' 'Not Graduate']\n",
            "['No' 'Yes' nan]\n",
            "[ 1.  0. nan]\n",
            "['Urban' 'Rural' 'Semiurban']\n",
            "['Y' 'N']\n"
          ],
          "name": "stdout"
        }
      ]
    },
    {
      "cell_type": "code",
      "metadata": {
        "id": "jrzqhziSjDhc",
        "colab_type": "code",
        "colab": {
          "base_uri": "https://localhost:8080/",
          "height": 84
        },
        "outputId": "26ec6103-0084-40ac-c84d-cb8669855f80"
      },
      "source": [
        "Neg = df_t['Loan_Status'].value_counts()\n",
        "print(Neg)\n",
        "print(\"Class Discrimination Coefficient ---> \" + str((Neg[1] / (Neg[1]+Neg[0]))*100))"
      ],
      "execution_count": 14,
      "outputs": [
        {
          "output_type": "stream",
          "text": [
            "Y    422\n",
            "N    192\n",
            "Name: Loan_Status, dtype: int64\n",
            "Class Discrimination Coefficient ---> 31.27035830618892\n"
          ],
          "name": "stdout"
        }
      ]
    },
    {
      "cell_type": "code",
      "metadata": {
        "id": "Gtx90Mtfj4Rd",
        "colab_type": "code",
        "colab": {
          "base_uri": "https://localhost:8080/",
          "height": 286
        },
        "outputId": "f82cf3dd-ebca-4788-fead-2a67c20be5ed"
      },
      "source": [
        "x=[0,1]\n",
        "#tp = [Pos , Neg ]\n",
        "plt.bar(x , Neg, label = 'bar count ' ,  color ='magenta' , width = 0.91)\n"
      ],
      "execution_count": 16,
      "outputs": [
        {
          "output_type": "execute_result",
          "data": {
            "text/plain": [
              "<BarContainer object of 2 artists>"
            ]
          },
          "metadata": {
            "tags": []
          },
          "execution_count": 16
        },
        {
          "output_type": "display_data",
          "data": {
            "image/png": "[encoded data removed]",
            "text/plain": [
              "<Figure size 432x288 with 1 Axes>"
            ]
          },
          "metadata": {
            "tags": []
          }
        }
      ]
    },
    {
      "cell_type": "code",
      "metadata": {
        "id": "oROEAudPj-Xl",
        "colab_type": "code",
        "colab": {
          "base_uri": "https://localhost:8080/",
          "height": 136
        },
        "outputId": "3cacb32f-8081-43ee-9da9-7296a02e4c68"
      },
      "source": [
        "df_t.groupby('Loan_Status').mean()"
      ],
      "execution_count": 18,
      "outputs": [
        {
          "output_type": "execute_result",
          "data": {
            "text/html": [
              "<div>\n",
              "<style scoped>\n",
              "    .dataframe tbody tr th:only-of-type {\n",
              "        vertical-align: middle;\n",
              "    }\n",
              "\n",
              "    .dataframe tbody tr th {\n",
              "        vertical-align: top;\n",
              "    }\n",
              "\n",
              "    .dataframe thead th {\n",
              "        text-align: right;\n",
              "    }\n",
              "</style>\n",
              "<table border=\"1\" class=\"dataframe\">\n",
              "  <thead>\n",
              "    <tr style=\"text-align: right;\">\n",
              "      <th></th>\n",
              "      <th>ApplicantIncome</th>\n",
              "      <th>CoapplicantIncome</th>\n",
              "      <th>LoanAmount</th>\n",
              "      <th>Loan_Amount_Term</th>\n",
              "      <th>Credit_History</th>\n",
              "    </tr>\n",
              "    <tr>\n",
              "      <th>Loan_Status</th>\n",
              "      <th></th>\n",
              "      <th></th>\n",
              "      <th></th>\n",
              "      <th></th>\n",
              "      <th></th>\n",
              "    </tr>\n",
              "  </thead>\n",
              "  <tbody>\n",
              "    <tr>\n",
              "      <th>N</th>\n",
              "      <td>5446.078125</td>\n",
              "      <td>1877.807292</td>\n",
              "      <td>151.220994</td>\n",
              "      <td>344.064516</td>\n",
              "      <td>0.541899</td>\n",
              "    </tr>\n",
              "    <tr>\n",
              "      <th>Y</th>\n",
              "      <td>5384.068720</td>\n",
              "      <td>1504.516398</td>\n",
              "      <td>144.294404</td>\n",
              "      <td>341.072464</td>\n",
              "      <td>0.981818</td>\n",
              "    </tr>\n",
              "  </tbody>\n",
              "</table>\n",
              "</div>"
            ],
            "text/plain": [
              "             ApplicantIncome  CoapplicantIncome  LoanAmount  Loan_Amount_Term  \\\n",
              "Loan_Status                                                                     \n",
              "N                5446.078125        1877.807292  151.220994        344.064516   \n",
              "Y                5384.068720        1504.516398  144.294404        341.072464   \n",
              "\n",
              "             Credit_History  \n",
              "Loan_Status                  \n",
              "N                  0.541899  \n",
              "Y                  0.981818  "
            ]
          },
          "metadata": {
            "tags": []
          },
          "execution_count": 18
        }
      ]
    },
    {
      "cell_type": "markdown",
      "metadata": {
        "id": "eNZFB8s2wO3I",
        "colab_type": "text"
      },
      "source": [
        "### Categorically Dependent Variable "
      ]
    },
    {
      "cell_type": "code",
      "metadata": {
        "id": "i2qC87m_k1hF",
        "colab_type": "code",
        "colab": {
          "base_uri": "https://localhost:8080/",
          "height": 488
        },
        "outputId": "a17d7e19-2031-492b-fb2d-1aaf9983fe42"
      },
      "source": [
        "pd.crosstab(df_t.Property_Area,df_t.Loan_Status).plot(kind='bar')\n",
        "plt.title('Purchase Frequency for Job Title')\n",
        "plt.xlabel('Loaction')\n",
        "plt.ylabel('Status')\n",
        "plt.show()\n",
        "df_t.groupby('Property_Area').mean()"
      ],
      "execution_count": 41,
      "outputs": [
        {
          "output_type": "display_data",
          "data": {
            "image/png": "[encoded data removed]",
            "text/plain": [
              "<Figure size 432x288 with 1 Axes>"
            ]
          },
          "metadata": {
            "tags": []
          }
        },
        {
          "output_type": "execute_result",
          "data": {
            "text/html": [
              "<div>\n",
              "<style scoped>\n",
              "    .dataframe tbody tr th:only-of-type {\n",
              "        vertical-align: middle;\n",
              "    }\n",
              "\n",
              "    .dataframe tbody tr th {\n",
              "        vertical-align: top;\n",
              "    }\n",
              "\n",
              "    .dataframe thead th {\n",
              "        text-align: right;\n",
              "    }\n",
              "</style>\n",
              "<table border=\"1\" class=\"dataframe\">\n",
              "  <thead>\n",
              "    <tr style=\"text-align: right;\">\n",
              "      <th></th>\n",
              "      <th>ApplicantIncome</th>\n",
              "      <th>CoapplicantIncome</th>\n",
              "      <th>LoanAmount</th>\n",
              "      <th>Loan_Amount_Term</th>\n",
              "      <th>Credit_History</th>\n",
              "    </tr>\n",
              "    <tr>\n",
              "      <th>Property_Area</th>\n",
              "      <th></th>\n",
              "      <th></th>\n",
              "      <th></th>\n",
              "      <th></th>\n",
              "      <th></th>\n",
              "    </tr>\n",
              "  </thead>\n",
              "  <tbody>\n",
              "    <tr>\n",
              "      <th>Rural</th>\n",
              "      <td>5554.083799</td>\n",
              "      <td>1645.536983</td>\n",
              "      <td>152.260116</td>\n",
              "      <td>345.531429</td>\n",
              "      <td>0.830303</td>\n",
              "    </tr>\n",
              "    <tr>\n",
              "      <th>Semiurban</th>\n",
              "      <td>5292.261803</td>\n",
              "      <td>1520.133047</td>\n",
              "      <td>145.504386</td>\n",
              "      <td>347.113043</td>\n",
              "      <td>0.861751</td>\n",
              "    </tr>\n",
              "    <tr>\n",
              "      <th>Urban</th>\n",
              "      <td>5398.247525</td>\n",
              "      <td>1716.350495</td>\n",
              "      <td>142.198953</td>\n",
              "      <td>332.800000</td>\n",
              "      <td>0.829670</td>\n",
              "    </tr>\n",
              "  </tbody>\n",
              "</table>\n",
              "</div>"
            ],
            "text/plain": [
              "               ApplicantIncome  CoapplicantIncome  LoanAmount  \\\n",
              "Property_Area                                                   \n",
              "Rural              5554.083799        1645.536983  152.260116   \n",
              "Semiurban          5292.261803        1520.133047  145.504386   \n",
              "Urban              5398.247525        1716.350495  142.198953   \n",
              "\n",
              "               Loan_Amount_Term  Credit_History  \n",
              "Property_Area                                    \n",
              "Rural                345.531429        0.830303  \n",
              "Semiurban            347.113043        0.861751  \n",
              "Urban                332.800000        0.829670  "
            ]
          },
          "metadata": {
            "tags": []
          },
          "execution_count": 41
        }
      ]
    },
    {
      "cell_type": "markdown",
      "metadata": {
        "id": "P3EIS52VmbJl",
        "colab_type": "text"
      },
      "source": [
        "**Semiurban Areas have high vote share for approved loan , however over rural areas the loan sanction is low **"
      ]
    },
    {
      "cell_type": "code",
      "metadata": {
        "id": "x65ktpbblPA0",
        "colab_type": "code",
        "colab": {
          "base_uri": "https://localhost:8080/",
          "height": 421
        },
        "outputId": "2b8e398e-fa52-4bdc-a710-aa5819c0f4e4"
      },
      "source": [
        "pd.crosstab(df_t.Credit_History,df_t.Loan_Status).plot(kind='bar')\n",
        "plt.title('Purchase Frequency for Job Title')\n",
        "plt.xlabel('Credit_History')\n",
        "plt.ylabel('Status')\n",
        "plt.show()\n",
        "df_t.groupby('Credit_History').mean()"
      ],
      "execution_count": 40,
      "outputs": [
        {
          "output_type": "display_data",
          "data": {
            "image/png": "[encoded data removed]",
            "text/plain": [
              "<Figure size 432x288 with 1 Axes>"
            ]
          },
          "metadata": {
            "tags": []
          }
        },
        {
          "output_type": "execute_result",
          "data": {
            "text/html": [
              "<div>\n",
              "<style scoped>\n",
              "    .dataframe tbody tr th:only-of-type {\n",
              "        vertical-align: middle;\n",
              "    }\n",
              "\n",
              "    .dataframe tbody tr th {\n",
              "        vertical-align: top;\n",
              "    }\n",
              "\n",
              "    .dataframe thead th {\n",
              "        text-align: right;\n",
              "    }\n",
              "</style>\n",
              "<table border=\"1\" class=\"dataframe\">\n",
              "  <thead>\n",
              "    <tr style=\"text-align: right;\">\n",
              "      <th></th>\n",
              "      <th>ApplicantIncome</th>\n",
              "      <th>CoapplicantIncome</th>\n",
              "      <th>LoanAmount</th>\n",
              "      <th>Loan_Amount_Term</th>\n",
              "    </tr>\n",
              "    <tr>\n",
              "      <th>Credit_History</th>\n",
              "      <th></th>\n",
              "      <th></th>\n",
              "      <th></th>\n",
              "      <th></th>\n",
              "    </tr>\n",
              "  </thead>\n",
              "  <tbody>\n",
              "    <tr>\n",
              "      <th>0.0</th>\n",
              "      <td>5679.438202</td>\n",
              "      <td>1542.179775</td>\n",
              "      <td>146.717647</td>\n",
              "      <td>341.927711</td>\n",
              "    </tr>\n",
              "    <tr>\n",
              "      <th>1.0</th>\n",
              "      <td>5426.526316</td>\n",
              "      <td>1528.250358</td>\n",
              "      <td>144.786026</td>\n",
              "      <td>342.192719</td>\n",
              "    </tr>\n",
              "  </tbody>\n",
              "</table>\n",
              "</div>"
            ],
            "text/plain": [
              "                ApplicantIncome  CoapplicantIncome  LoanAmount  \\\n",
              "Credit_History                                                   \n",
              "0.0                 5679.438202        1542.179775  146.717647   \n",
              "1.0                 5426.526316        1528.250358  144.786026   \n",
              "\n",
              "                Loan_Amount_Term  \n",
              "Credit_History                    \n",
              "0.0                   341.927711  \n",
              "1.0                   342.192719  "
            ]
          },
          "metadata": {
            "tags": []
          },
          "execution_count": 40
        }
      ]
    },
    {
      "cell_type": "markdown",
      "metadata": {
        "id": "dnwi0XLGlqKw",
        "colab_type": "text"
      },
      "source": [
        "***The Observation with a credit history 0 is never given a loan or credit history 1 is essential for a LOAN***"
      ]
    },
    {
      "cell_type": "code",
      "metadata": {
        "id": "Sd0VCvQblUCp",
        "colab_type": "code",
        "colab": {
          "base_uri": "https://localhost:8080/",
          "height": 422
        },
        "outputId": "88f01c4c-d8b1-4df8-a84c-2ea6f37c4e4c"
      },
      "source": [
        "pd.crosstab(df_t.Self_Employed,df_t.Loan_Status).plot(kind='bar')\n",
        "plt.title('Purchase Frequency for Job Title')\n",
        "plt.xlabel('Self Employed')\n",
        "plt.ylabel('Status')\n",
        "plt.show()\n",
        "df_t.groupby('Self_Employed').mean()"
      ],
      "execution_count": 39,
      "outputs": [
        {
          "output_type": "display_data",
          "data": {
            "image/png": "[encoded data removed]",
            "text/plain": [
              "<Figure size 432x288 with 1 Axes>"
            ]
          },
          "metadata": {
            "tags": []
          }
        },
        {
          "output_type": "execute_result",
          "data": {
            "text/html": [
              "<div>\n",
              "<style scoped>\n",
              "    .dataframe tbody tr th:only-of-type {\n",
              "        vertical-align: middle;\n",
              "    }\n",
              "\n",
              "    .dataframe tbody tr th {\n",
              "        vertical-align: top;\n",
              "    }\n",
              "\n",
              "    .dataframe thead th {\n",
              "        text-align: right;\n",
              "    }\n",
              "</style>\n",
              "<table border=\"1\" class=\"dataframe\">\n",
              "  <thead>\n",
              "    <tr style=\"text-align: right;\">\n",
              "      <th></th>\n",
              "      <th>ApplicantIncome</th>\n",
              "      <th>CoapplicantIncome</th>\n",
              "      <th>LoanAmount</th>\n",
              "      <th>Loan_Amount_Term</th>\n",
              "      <th>Credit_History</th>\n",
              "    </tr>\n",
              "    <tr>\n",
              "      <th>Self_Employed</th>\n",
              "      <th></th>\n",
              "      <th></th>\n",
              "      <th></th>\n",
              "      <th></th>\n",
              "      <th></th>\n",
              "    </tr>\n",
              "  </thead>\n",
              "  <tbody>\n",
              "    <tr>\n",
              "      <th>No</th>\n",
              "      <td>5049.748000</td>\n",
              "      <td>1580.989840</td>\n",
              "      <td>141.748963</td>\n",
              "      <td>343.263804</td>\n",
              "      <td>0.835853</td>\n",
              "    </tr>\n",
              "    <tr>\n",
              "      <th>Yes</th>\n",
              "      <td>7380.817073</td>\n",
              "      <td>1501.341463</td>\n",
              "      <td>172.000000</td>\n",
              "      <td>336.300000</td>\n",
              "      <td>0.840000</td>\n",
              "    </tr>\n",
              "  </tbody>\n",
              "</table>\n",
              "</div>"
            ],
            "text/plain": [
              "               ApplicantIncome  CoapplicantIncome  LoanAmount  \\\n",
              "Self_Employed                                                   \n",
              "No                 5049.748000        1580.989840  141.748963   \n",
              "Yes                7380.817073        1501.341463  172.000000   \n",
              "\n",
              "               Loan_Amount_Term  Credit_History  \n",
              "Self_Employed                                    \n",
              "No                   343.263804        0.835853  \n",
              "Yes                  336.300000        0.840000  "
            ]
          },
          "metadata": {
            "tags": []
          },
          "execution_count": 39
        }
      ]
    },
    {
      "cell_type": "markdown",
      "metadata": {
        "id": "BPCU5Iysl20J",
        "colab_type": "text"
      },
      "source": [
        "***Those who are not self employed , generally get a Loan easily ***"
      ]
    },
    {
      "cell_type": "code",
      "metadata": {
        "id": "c9_PdFHBlb2g",
        "colab_type": "code",
        "colab": {
          "base_uri": "https://localhost:8080/",
          "height": 472
        },
        "outputId": "34aa7661-8b3c-4015-d9e6-21e1651637b0"
      },
      "source": [
        "pd.crosstab(df_t.Education,df_t.Loan_Status).plot(kind='bar')\n",
        "plt.title('Purchase Frequency for Job Title')\n",
        "plt.xlabel('Education')\n",
        "plt.ylabel('Status')\n",
        "plt.show()\n",
        "df_t.groupby('Education').mean()"
      ],
      "execution_count": 38,
      "outputs": [
        {
          "output_type": "display_data",
          "data": {
            "image/png": "[encoded data removed]",
            "text/plain": [
              "<Figure size 432x288 with 1 Axes>"
            ]
          },
          "metadata": {
            "tags": []
          }
        },
        {
          "output_type": "execute_result",
          "data": {
            "text/html": [
              "<div>\n",
              "<style scoped>\n",
              "    .dataframe tbody tr th:only-of-type {\n",
              "        vertical-align: middle;\n",
              "    }\n",
              "\n",
              "    .dataframe tbody tr th {\n",
              "        vertical-align: top;\n",
              "    }\n",
              "\n",
              "    .dataframe thead th {\n",
              "        text-align: right;\n",
              "    }\n",
              "</style>\n",
              "<table border=\"1\" class=\"dataframe\">\n",
              "  <thead>\n",
              "    <tr style=\"text-align: right;\">\n",
              "      <th></th>\n",
              "      <th>ApplicantIncome</th>\n",
              "      <th>CoapplicantIncome</th>\n",
              "      <th>LoanAmount</th>\n",
              "      <th>Loan_Amount_Term</th>\n",
              "      <th>Credit_History</th>\n",
              "    </tr>\n",
              "    <tr>\n",
              "      <th>Education</th>\n",
              "      <th></th>\n",
              "      <th></th>\n",
              "      <th></th>\n",
              "      <th></th>\n",
              "      <th></th>\n",
              "    </tr>\n",
              "  </thead>\n",
              "  <tbody>\n",
              "    <tr>\n",
              "      <th>Graduate</th>\n",
              "      <td>5857.433333</td>\n",
              "      <td>1717.474833</td>\n",
              "      <td>154.060215</td>\n",
              "      <td>344.669492</td>\n",
              "      <td>0.857788</td>\n",
              "    </tr>\n",
              "    <tr>\n",
              "      <th>Not Graduate</th>\n",
              "      <td>3777.283582</td>\n",
              "      <td>1276.544776</td>\n",
              "      <td>118.409449</td>\n",
              "      <td>332.156250</td>\n",
              "      <td>0.785124</td>\n",
              "    </tr>\n",
              "  </tbody>\n",
              "</table>\n",
              "</div>"
            ],
            "text/plain": [
              "              ApplicantIncome  CoapplicantIncome  LoanAmount  \\\n",
              "Education                                                      \n",
              "Graduate          5857.433333        1717.474833  154.060215   \n",
              "Not Graduate      3777.283582        1276.544776  118.409449   \n",
              "\n",
              "              Loan_Amount_Term  Credit_History  \n",
              "Education                                       \n",
              "Graduate            344.669492        0.857788  \n",
              "Not Graduate        332.156250        0.785124  "
            ]
          },
          "metadata": {
            "tags": []
          },
          "execution_count": 38
        }
      ]
    },
    {
      "cell_type": "markdown",
      "metadata": {
        "id": "nkGlJGVbmCzv",
        "colab_type": "text"
      },
      "source": [
        "***Graduation is a wiser criteria for loan***"
      ]
    },
    {
      "cell_type": "code",
      "metadata": {
        "id": "pQ_bo6JJlb6W",
        "colab_type": "code",
        "colab": {
          "base_uri": "https://localhost:8080/",
          "height": 478
        },
        "outputId": "ae406893-5697-429d-a9e9-c8c0a7d84411"
      },
      "source": [
        "pd.crosstab(df_t.Dependents,df_t.Loan_Status).plot(kind='bar')\n",
        "plt.title('Purchase Frequency for Job Title')\n",
        "plt.xlabel('Dependents')\n",
        "plt.ylabel('Status')\n",
        "plt.show()\n",
        "df_t.groupby('Dependents').mean()"
      ],
      "execution_count": 37,
      "outputs": [
        {
          "output_type": "display_data",
          "data": {
            "image/png": "[encoded data removed]",
            "text/plain": [
              "<Figure size 432x288 with 1 Axes>"
            ]
          },
          "metadata": {
            "tags": []
          }
        },
        {
          "output_type": "execute_result",
          "data": {
            "text/html": [
              "<div>\n",
              "<style scoped>\n",
              "    .dataframe tbody tr th:only-of-type {\n",
              "        vertical-align: middle;\n",
              "    }\n",
              "\n",
              "    .dataframe tbody tr th {\n",
              "        vertical-align: top;\n",
              "    }\n",
              "\n",
              "    .dataframe thead th {\n",
              "        text-align: right;\n",
              "    }\n",
              "</style>\n",
              "<table border=\"1\" class=\"dataframe\">\n",
              "  <thead>\n",
              "    <tr style=\"text-align: right;\">\n",
              "      <th></th>\n",
              "      <th>ApplicantIncome</th>\n",
              "      <th>CoapplicantIncome</th>\n",
              "      <th>LoanAmount</th>\n",
              "      <th>Loan_Amount_Term</th>\n",
              "      <th>Credit_History</th>\n",
              "    </tr>\n",
              "    <tr>\n",
              "      <th>Dependents</th>\n",
              "      <th></th>\n",
              "      <th></th>\n",
              "      <th></th>\n",
              "      <th></th>\n",
              "      <th></th>\n",
              "    </tr>\n",
              "  </thead>\n",
              "  <tbody>\n",
              "    <tr>\n",
              "      <th>0</th>\n",
              "      <td>4917.423188</td>\n",
              "      <td>1623.696000</td>\n",
              "      <td>135.886228</td>\n",
              "      <td>348.107784</td>\n",
              "      <td>0.857595</td>\n",
              "    </tr>\n",
              "    <tr>\n",
              "      <th>1</th>\n",
              "      <td>5962.274510</td>\n",
              "      <td>1426.235294</td>\n",
              "      <td>158.622449</td>\n",
              "      <td>329.346535</td>\n",
              "      <td>0.844444</td>\n",
              "    </tr>\n",
              "    <tr>\n",
              "      <th>2</th>\n",
              "      <td>4926.782178</td>\n",
              "      <td>1687.245544</td>\n",
              "      <td>150.224490</td>\n",
              "      <td>340.871287</td>\n",
              "      <td>0.852632</td>\n",
              "    </tr>\n",
              "    <tr>\n",
              "      <th>3+</th>\n",
              "      <td>8581.215686</td>\n",
              "      <td>2024.313725</td>\n",
              "      <td>190.897959</td>\n",
              "      <td>325.200000</td>\n",
              "      <td>0.770833</td>\n",
              "    </tr>\n",
              "  </tbody>\n",
              "</table>\n",
              "</div>"
            ],
            "text/plain": [
              "            ApplicantIncome  CoapplicantIncome  LoanAmount  Loan_Amount_Term  \\\n",
              "Dependents                                                                     \n",
              "0               4917.423188        1623.696000  135.886228        348.107784   \n",
              "1               5962.274510        1426.235294  158.622449        329.346535   \n",
              "2               4926.782178        1687.245544  150.224490        340.871287   \n",
              "3+              8581.215686        2024.313725  190.897959        325.200000   \n",
              "\n",
              "            Credit_History  \n",
              "Dependents                  \n",
              "0                 0.857595  \n",
              "1                 0.844444  \n",
              "2                 0.852632  \n",
              "3+                0.770833  "
            ]
          },
          "metadata": {
            "tags": []
          },
          "execution_count": 37
        }
      ]
    },
    {
      "cell_type": "markdown",
      "metadata": {
        "id": "FApB3hPRmI8d",
        "colab_type": "text"
      },
      "source": [
        "***Approval of the loan is easier with fewer  number of dependents as the candidate requires less investment over himself and hence can payback the loan in easier fashion***"
      ]
    },
    {
      "cell_type": "code",
      "metadata": {
        "id": "RqAWtHp_mIb8",
        "colab_type": "code",
        "colab": {
          "base_uri": "https://localhost:8080/",
          "height": 441
        },
        "outputId": "53864746-9e4a-4834-d1b1-96d193e58dca"
      },
      "source": [
        "pd.crosstab(df_t.Gender,df_t.Loan_Status).plot(kind='bar')\n",
        "plt.title('Purchase Frequency for Job Title')\n",
        "plt.xlabel('Gender')\n",
        "plt.ylabel('Status')\n",
        "plt.show()\n",
        "df_t.groupby('Gender').mean()"
      ],
      "execution_count": 42,
      "outputs": [
        {
          "output_type": "display_data",
          "data": {
            "image/png": "[encoded data removed]",
            "text/plain": [
              "<Figure size 432x288 with 1 Axes>"
            ]
          },
          "metadata": {
            "tags": []
          }
        },
        {
          "output_type": "execute_result",
          "data": {
            "text/html": [
              "<div>\n",
              "<style scoped>\n",
              "    .dataframe tbody tr th:only-of-type {\n",
              "        vertical-align: middle;\n",
              "    }\n",
              "\n",
              "    .dataframe tbody tr th {\n",
              "        vertical-align: top;\n",
              "    }\n",
              "\n",
              "    .dataframe thead th {\n",
              "        text-align: right;\n",
              "    }\n",
              "</style>\n",
              "<table border=\"1\" class=\"dataframe\">\n",
              "  <thead>\n",
              "    <tr style=\"text-align: right;\">\n",
              "      <th></th>\n",
              "      <th>ApplicantIncome</th>\n",
              "      <th>CoapplicantIncome</th>\n",
              "      <th>LoanAmount</th>\n",
              "      <th>Loan_Amount_Term</th>\n",
              "      <th>Credit_History</th>\n",
              "    </tr>\n",
              "    <tr>\n",
              "      <th>Gender</th>\n",
              "      <th></th>\n",
              "      <th></th>\n",
              "      <th></th>\n",
              "      <th></th>\n",
              "      <th></th>\n",
              "    </tr>\n",
              "  </thead>\n",
              "  <tbody>\n",
              "    <tr>\n",
              "      <th>Female</th>\n",
              "      <td>4643.473214</td>\n",
              "      <td>1108.008929</td>\n",
              "      <td>126.697248</td>\n",
              "      <td>352.293578</td>\n",
              "      <td>0.831683</td>\n",
              "    </tr>\n",
              "    <tr>\n",
              "      <th>Male</th>\n",
              "      <td>5446.460123</td>\n",
              "      <td>1742.932352</td>\n",
              "      <td>149.265957</td>\n",
              "      <td>339.665272</td>\n",
              "      <td>0.847007</td>\n",
              "    </tr>\n",
              "  </tbody>\n",
              "</table>\n",
              "</div>"
            ],
            "text/plain": [
              "        ApplicantIncome  CoapplicantIncome  LoanAmount  Loan_Amount_Term  \\\n",
              "Gender                                                                     \n",
              "Female      4643.473214        1108.008929  126.697248        352.293578   \n",
              "Male        5446.460123        1742.932352  149.265957        339.665272   \n",
              "\n",
              "        Credit_History  \n",
              "Gender                  \n",
              "Female        0.831683  \n",
              "Male          0.847007  "
            ]
          },
          "metadata": {
            "tags": []
          },
          "execution_count": 42
        }
      ]
    },
    {
      "cell_type": "code",
      "metadata": {
        "id": "6Ims4aOcmCY5",
        "colab_type": "code",
        "colab": {
          "base_uri": "https://localhost:8080/",
          "height": 422
        },
        "outputId": "6a9d38c3-98f2-4531-ad90-0cba988133e9"
      },
      "source": [
        "pd.crosstab(df_t.Married,df_t.Loan_Status).plot(kind='bar')\n",
        "plt.title('Purchase Frequency for Job Title')\n",
        "plt.xlabel('Married')\n",
        "plt.ylabel('Status')\n",
        "plt.show()\n",
        "df_t.groupby('Married').mean()"
      ],
      "execution_count": 43,
      "outputs": [
        {
          "output_type": "display_data",
          "data": {
            "image/png": "[encoded data removed]",
            "text/plain": [
              "<Figure size 432x288 with 1 Axes>"
            ]
          },
          "metadata": {
            "tags": []
          }
        },
        {
          "output_type": "execute_result",
          "data": {
            "text/html": [
              "<div>\n",
              "<style scoped>\n",
              "    .dataframe tbody tr th:only-of-type {\n",
              "        vertical-align: middle;\n",
              "    }\n",
              "\n",
              "    .dataframe tbody tr th {\n",
              "        vertical-align: top;\n",
              "    }\n",
              "\n",
              "    .dataframe thead th {\n",
              "        text-align: right;\n",
              "    }\n",
              "</style>\n",
              "<table border=\"1\" class=\"dataframe\">\n",
              "  <thead>\n",
              "    <tr style=\"text-align: right;\">\n",
              "      <th></th>\n",
              "      <th>ApplicantIncome</th>\n",
              "      <th>CoapplicantIncome</th>\n",
              "      <th>LoanAmount</th>\n",
              "      <th>Loan_Amount_Term</th>\n",
              "      <th>Credit_History</th>\n",
              "    </tr>\n",
              "    <tr>\n",
              "      <th>Married</th>\n",
              "      <th></th>\n",
              "      <th></th>\n",
              "      <th></th>\n",
              "      <th></th>\n",
              "      <th></th>\n",
              "    </tr>\n",
              "  </thead>\n",
              "  <tbody>\n",
              "    <tr>\n",
              "      <th>No</th>\n",
              "      <td>4970.384977</td>\n",
              "      <td>1316.558685</td>\n",
              "      <td>128.883495</td>\n",
              "      <td>351.115385</td>\n",
              "      <td>0.839196</td>\n",
              "    </tr>\n",
              "    <tr>\n",
              "      <th>Yes</th>\n",
              "      <td>5629.173367</td>\n",
              "      <td>1794.632965</td>\n",
              "      <td>155.750000</td>\n",
              "      <td>336.987147</td>\n",
              "      <td>0.842541</td>\n",
              "    </tr>\n",
              "  </tbody>\n",
              "</table>\n",
              "</div>"
            ],
            "text/plain": [
              "         ApplicantIncome  CoapplicantIncome  LoanAmount  Loan_Amount_Term  \\\n",
              "Married                                                                     \n",
              "No           4970.384977        1316.558685  128.883495        351.115385   \n",
              "Yes          5629.173367        1794.632965  155.750000        336.987147   \n",
              "\n",
              "         Credit_History  \n",
              "Married                  \n",
              "No             0.839196  \n",
              "Yes            0.842541  "
            ]
          },
          "metadata": {
            "tags": []
          },
          "execution_count": 43
        }
      ]
    },
    {
      "cell_type": "markdown",
      "metadata": {
        "id": "qhMzUgH1wHAt",
        "colab_type": "text"
      },
      "source": [
        "### Numerically Dependent Variables "
      ]
    },
    {
      "cell_type": "code",
      "metadata": {
        "id": "cOaqYFl4wLem",
        "colab_type": "code",
        "colab": {
          "base_uri": "https://localhost:8080/",
          "height": 298
        },
        "outputId": "15417cfc-83ec-44c4-d3db-200e7db59a19"
      },
      "source": [
        "df_t.groupby('Loan_Status')['ApplicantIncome'].mean().plot.bar()"
      ],
      "execution_count": 70,
      "outputs": [
        {
          "output_type": "execute_result",
          "data": {
            "text/plain": [
              "<matplotlib.axes._subplots.AxesSubplot at 0x7fbc5b0e1dd8>"
            ]
          },
          "metadata": {
            "tags": []
          },
          "execution_count": 70
        },
        {
          "output_type": "display_data",
          "data": {
            "image/png": "[encoded data removed]",
            "text/plain": [
              "<Figure size 432x288 with 1 Axes>"
            ]
          },
          "metadata": {
            "tags": []
          }
        }
      ]
    },
    {
      "cell_type": "markdown",
      "metadata": {
        "id": "JTjYbP5PwfFC",
        "colab_type": "text"
      },
      "source": [
        "We don’t see any change in the mean income. So, let’s make bins for the applicant income variable based on the values in it and analyze the corresponding loan status for each bin."
      ]
    },
    {
      "cell_type": "code",
      "metadata": {
        "id": "bzWJR8lAwYHE",
        "colab_type": "code",
        "colab": {
          "base_uri": "https://localhost:8080/",
          "height": 298
        },
        "outputId": "2dbff1e7-5e52-4fb5-cde4-be0a7d0cd0d0"
      },
      "source": [
        "df_t.groupby('Loan_Status')['CoapplicantIncome'].mean().plot.bar()"
      ],
      "execution_count": 71,
      "outputs": [
        {
          "output_type": "execute_result",
          "data": {
            "text/plain": [
              "<matplotlib.axes._subplots.AxesSubplot at 0x7fbc5ab3f470>"
            ]
          },
          "metadata": {
            "tags": []
          },
          "execution_count": 71
        },
        {
          "output_type": "display_data",
          "data": {
            "image/png": "[encoded data removed]",
            "text/plain": [
              "<Figure size 432x288 with 1 Axes>"
            ]
          },
          "metadata": {
            "tags": []
          }
        }
      ]
    },
    {
      "cell_type": "code",
      "metadata": {
        "id": "sqaoroR5wzy1",
        "colab_type": "code",
        "colab": {
          "base_uri": "https://localhost:8080/",
          "height": 467
        },
        "outputId": "95650b25-7a55-4625-f4d3-13721f6105f3"
      },
      "source": [
        "matrix = df_t.corr() \n",
        "plt.subplots(figsize=(9, 6)) \n",
        "sns.heatmap(matrix, vmax=.8, square=True);"
      ],
      "execution_count": 77,
      "outputs": [
        {
          "output_type": "display_data",
          "data": {
            "image/png": "[encoded data removed]",
            "text/plain": [
              "<Figure size 648x432 with 2 Axes>"
            ]
          },
          "metadata": {
            "tags": []
          }
        }
      ]
    },
    {
      "cell_type": "markdown",
      "metadata": {
        "id": "Jjteq6klxF9P",
        "colab_type": "text"
      },
      "source": [
        "We see that the most correlated variables are (ApplicantIncome - LoanAmount) and (Credit_History - Loan_Status). LoanAmount is also correlated with CoapplicantIncome."
      ]
    },
    {
      "cell_type": "markdown",
      "metadata": {
        "id": "NAnKxykYvXR_",
        "colab_type": "text"
      },
      "source": [
        "## Univariate Analysis  *--> w.r.t Itself*"
      ]
    },
    {
      "cell_type": "code",
      "metadata": {
        "id": "LWzjnvDSoydg",
        "colab_type": "code",
        "colab": {
          "base_uri": "https://localhost:8080/",
          "height": 317
        },
        "outputId": "16e21020-5cce-4420-a46b-709539fa5371"
      },
      "source": [
        "from scipy.stats import norm\n",
        "import seaborn as sns\n",
        "sns.distplot(df_t['CoapplicantIncome'], hist=True,bins=int(90/5), fit=norm , color=\"y\")\n",
        "\n",
        "print('kurtosis ---> ' + str(df_t['CoapplicantIncome'].kurtosis()))\n",
        "print('Skewness ---> ' + str(df_t['CoapplicantIncome'].skew()))"
      ],
      "execution_count": 65,
      "outputs": [
        {
          "output_type": "stream",
          "text": [
            "kurtosis ---> 84.95638421103374\n",
            "Skewness ---> 7.491531216657306\n"
          ],
          "name": "stdout"
        },
        {
          "output_type": "display_data",
          "data": {
            "image/png": "[encoded data removed]",
            "text/plain": [
              "<Figure size 432x288 with 1 Axes>"
            ]
          },
          "metadata": {
            "tags": []
          }
        }
      ]
    },
    {
      "cell_type": "markdown",
      "metadata": {
        "id": "YKOrBCjXstv4",
        "colab_type": "text"
      },
      "source": [
        "Presence of two different modal distributions . one peaking at 0 and other at 5000 .  It is positively skewed and kutossed meaning \n",
        "there exists lot of  extreme values in positive to mean and \n",
        "The variance is simultaneously high over to the positive side of mean "
      ]
    },
    {
      "cell_type": "code",
      "metadata": {
        "id": "gixNQ1IEpT2M",
        "colab_type": "code",
        "colab": {
          "base_uri": "https://localhost:8080/",
          "height": 317
        },
        "outputId": "c0ec8624-19ce-470c-8cab-868cfb90d619"
      },
      "source": [
        "\n",
        "from scipy.stats import norm\n",
        "import seaborn as sns\n",
        "sns.distplot(df_t['ApplicantIncome'], hist=True,bins=int(90/5), fit=norm , color=\"y\")\n",
        "print('kurtosis ---> ' + str(df_t['ApplicantIncome'].kurtosis()))\n",
        "print('Skewness ---> ' + str(df_t['ApplicantIncome'].skew()))"
      ],
      "execution_count": 67,
      "outputs": [
        {
          "output_type": "stream",
          "text": [
            "kurtosis ---> 60.54067593369113\n",
            "Skewness ---> 6.539513113994625\n"
          ],
          "name": "stdout"
        },
        {
          "output_type": "display_data",
          "data": {
            "image/png": "[encoded data removed]",
            "text/plain": [
              "<Figure size 432x288 with 1 Axes>"
            ]
          },
          "metadata": {
            "tags": []
          }
        }
      ]
    },
    {
      "cell_type": "markdown",
      "metadata": {
        "id": "siYfG0a_uHW3",
        "colab_type": "text"
      },
      "source": [
        "Presence of unimodal distributions . one peaking at 1500.  It is positively skewed and kutossed meaning \n",
        "there exists lot of  extreme values in positive to mean and \n",
        "The variance is simultaneously high over to the positive side of mean "
      ]
    },
    {
      "cell_type": "code",
      "metadata": {
        "id": "IdYPHLPdp9SO",
        "colab_type": "code",
        "colab": {
          "base_uri": "https://localhost:8080/",
          "height": 318
        },
        "outputId": "b32a173a-ebf7-48c9-9bf5-581e46d9f266"
      },
      "source": [
        "df=df_t.dropna()\n",
        "from scipy.stats import norm\n",
        "import seaborn as sns\n",
        "sns.distplot(df['Loan_Amount_Term'], hist=False,bins=int(90/5), fit=norm , color=\"y\")\n",
        "print('kurtosis ---> ' + str(df_t['Loan_Amount_Term'].kurtosis()))\n",
        "print('Skewness ---> ' + str(df_t['Loan_Amount_Term'].skew()))"
      ],
      "execution_count": 68,
      "outputs": [
        {
          "output_type": "stream",
          "text": [
            "kurtosis ---> 6.673473692814259\n",
            "Skewness ---> -2.362414124216269\n"
          ],
          "name": "stdout"
        },
        {
          "output_type": "display_data",
          "data": {
            "image/png": "[encoded data removed]",
            "text/plain": [
              "<Figure size 432x288 with 1 Axes>"
            ]
          },
          "metadata": {
            "tags": []
          }
        }
      ]
    },
    {
      "cell_type": "markdown",
      "metadata": {
        "id": "jQDx1umXugeG",
        "colab_type": "text"
      },
      "source": [
        "Presence of ultiple peak distributions . one peaking at 350.  It is negatively skewed and  low kutossed meaning \n",
        "there exists lot of  extreme values in negative to mean and \n",
        "The variance is simultaneously high over to the negative side of mean "
      ]
    },
    {
      "cell_type": "code",
      "metadata": {
        "id": "WPRa36jFpc2s",
        "colab_type": "code",
        "colab": {
          "base_uri": "https://localhost:8080/",
          "height": 317
        },
        "outputId": "e59890a7-be83-44db-fdd0-c16862904d65"
      },
      "source": [
        "df=df_t.dropna()\n",
        "from scipy.stats import norm\n",
        "import seaborn as sns\n",
        "sns.distplot(df['LoanAmount'], hist=False,bins=int(90/5), fit=norm , color=\"y\")\n",
        "print('kurtosis ---> ' + str(df_t['LoanAmount'].kurtosis()))\n",
        "print('Skewness ---> ' + str(df_t['LoanAmount'].skew()))"
      ],
      "execution_count": 69,
      "outputs": [
        {
          "output_type": "stream",
          "text": [
            "kurtosis ---> 10.40153349029416\n",
            "Skewness ---> 2.677551679256059\n"
          ],
          "name": "stdout"
        },
        {
          "output_type": "display_data",
          "data": {
            "image/png": "[encoded data removed]",
            "text/plain": [
              "<Figure size 432x288 with 1 Axes>"
            ]
          },
          "metadata": {
            "tags": []
          }
        }
      ]
    },
    {
      "cell_type": "markdown",
      "metadata": {
        "id": "H3jWFS4ru6V_",
        "colab_type": "text"
      },
      "source": [
        "Presence of single peak distributions . one peaking at 150.  It is positively skewed and  low kutossed meaning \n",
        "there exists  extreme values in positive to mean and \n",
        "The variance is simultaneously high over to the positive side of mean "
      ]
    },
    {
      "cell_type": "code",
      "metadata": {
        "id": "NMAwcFYyshvv",
        "colab_type": "code",
        "colab": {
          "base_uri": "https://localhost:8080/",
          "height": 337
        },
        "outputId": "b9752c8c-f48e-4be3-a605-2830e28e4da0"
      },
      "source": [
        "\n",
        "df_t.plot.box(grid='True')\n"
      ],
      "execution_count": 58,
      "outputs": [
        {
          "output_type": "stream",
          "text": [
            "/usr/local/lib/python3.6/dist-packages/matplotlib/cbook/__init__.py:424: MatplotlibDeprecationWarning: \n",
            "Passing one of 'on', 'true', 'off', 'false' as a boolean is deprecated; use an actual boolean (True/False) instead.\n",
            "  warn_deprecated(\"2.2\", \"Passing one of 'on', 'true', 'off', 'false' as a \"\n"
          ],
          "name": "stderr"
        },
        {
          "output_type": "execute_result",
          "data": {
            "text/plain": [
              "<matplotlib.axes._subplots.AxesSubplot at 0x7fbc5aeaa128>"
            ]
          },
          "metadata": {
            "tags": []
          },
          "execution_count": 58
        },
        {
          "output_type": "display_data",
          "data": {
            "image/png": "[encoded data removed]",
            "text/plain": [
              "<Figure size 432x288 with 1 Axes>"
            ]
          },
          "metadata": {
            "tags": []
          }
        }
      ]
    },
    {
      "cell_type": "markdown",
      "metadata": {
        "id": "tEiZVfwQvfHF",
        "colab_type": "text"
      },
      "source": [
        "The boxplot confirms the presence of a lot of outliers/extreme values, majorly in Aplicant Income and coapplicant Income"
      ]
    },
    {
      "cell_type": "markdown",
      "metadata": {
        "id": "t5B76JPs3Cyv",
        "colab_type": "text"
      },
      "source": [
        "# Hypothesis\n",
        "\n",
        "### 1. Credit History must be 1 for a Loan Sanction\n",
        "### 2. Hiegher the Income of Coapplicant and applicant more chances of loan\n",
        "### 3. Graduation increase chances of loan \n",
        "### 4. Non - Self Employed personals possed more chances of loan\n",
        "### 5. Fewer Dependents increments chances of loan\n",
        "### 6. Suburban and urban areas have better chances of loan"
      ]
    },
    {
      "cell_type": "markdown",
      "metadata": {
        "id": "4cP8RDOH4Cyg",
        "colab_type": "text"
      },
      "source": [
        "# Pre-Processing"
      ]
    },
    {
      "cell_type": "code",
      "metadata": {
        "id": "_SS7hLmq4GEO",
        "colab_type": "code",
        "colab": {}
      },
      "source": [
        "def preprocess(df):\n",
        "  numeric_variables = list(df.select_dtypes(include=['int64','float']).columns.values)\n",
        "  df[numeric_variables]=df[numeric_variables].apply(lambda x: x.fillna(x.mean()),axis=0)\n",
        "  categorical_variables = list(df.select_dtypes(exclude=['int64','float','bool']).columns.values)\n",
        "  df[categorical_variables]=df[categorical_variables].apply(lambda x: x.fillna(x.mode()),axis=0)\n",
        "  df = pd.get_dummies(df, prefix_sep=\"__\",columns=categorical_variables)  \n",
        "  return df"
      ],
      "execution_count": 0,
      "outputs": []
    },
    {
      "cell_type": "code",
      "metadata": {
        "id": "VgZfXHyk4TQG",
        "colab_type": "code",
        "colab": {}
      },
      "source": [
        ""
      ],
      "execution_count": 0,
      "outputs": []
    }
  ]
}